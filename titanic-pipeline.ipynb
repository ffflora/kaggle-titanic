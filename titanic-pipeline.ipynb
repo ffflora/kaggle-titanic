{
 "cells": [
  {
   "cell_type": "code",
   "execution_count": 1,
   "metadata": {
    "_cell_guid": "",
    "_uuid": ""
   },
   "outputs": [],
   "source": [
    "import pandas as pd\n",
    "import numpy as np \n",
    "import seaborn as sns\n",
    "import matplotlib.pyplot as plt \n",
    "import warnings\n",
    "import pandas_profiling as ppf\n",
    "\n",
    "from sklearn.preprocessing import LabelEncoder, MinMaxScaler\n",
    "from sklearn.model_selection import train_test_split\n",
    "from sklearn.linear_model import LinearRegression\n",
    "from sklearn.metrics import mean_absolute_error\n",
    "\n",
    "\n",
    "test = pd.read_csv(\"dataset/test.csv\")\n",
    "train = pd.read_csv(\"dataset/train.csv\")"
   ]
  },
  {
   "cell_type": "markdown",
   "metadata": {},
   "source": [
    "### EDA"
   ]
  },
  {
   "cell_type": "code",
   "execution_count": 3,
   "metadata": {},
   "outputs": [
    {
     "data": {
      "text/html": [
       "<div>\n",
       "<style scoped>\n",
       "    .dataframe tbody tr th:only-of-type {\n",
       "        vertical-align: middle;\n",
       "    }\n",
       "\n",
       "    .dataframe tbody tr th {\n",
       "        vertical-align: top;\n",
       "    }\n",
       "\n",
       "    .dataframe thead th {\n",
       "        text-align: right;\n",
       "    }\n",
       "</style>\n",
       "<table border=\"1\" class=\"dataframe\">\n",
       "  <thead>\n",
       "    <tr style=\"text-align: right;\">\n",
       "      <th></th>\n",
       "      <th>PassengerId</th>\n",
       "      <th>Survived</th>\n",
       "      <th>Pclass</th>\n",
       "      <th>Name</th>\n",
       "      <th>Sex</th>\n",
       "      <th>Age</th>\n",
       "      <th>SibSp</th>\n",
       "      <th>Parch</th>\n",
       "      <th>Ticket</th>\n",
       "      <th>Fare</th>\n",
       "      <th>Cabin</th>\n",
       "      <th>Embarked</th>\n",
       "    </tr>\n",
       "  </thead>\n",
       "  <tbody>\n",
       "    <tr>\n",
       "      <th>0</th>\n",
       "      <td>1</td>\n",
       "      <td>0</td>\n",
       "      <td>3</td>\n",
       "      <td>Braund, Mr. Owen Harris</td>\n",
       "      <td>male</td>\n",
       "      <td>22.0</td>\n",
       "      <td>1</td>\n",
       "      <td>0</td>\n",
       "      <td>A/5 21171</td>\n",
       "      <td>7.2500</td>\n",
       "      <td>NaN</td>\n",
       "      <td>S</td>\n",
       "    </tr>\n",
       "    <tr>\n",
       "      <th>1</th>\n",
       "      <td>2</td>\n",
       "      <td>1</td>\n",
       "      <td>1</td>\n",
       "      <td>Cumings, Mrs. John Bradley (Florence Briggs Th...</td>\n",
       "      <td>female</td>\n",
       "      <td>38.0</td>\n",
       "      <td>1</td>\n",
       "      <td>0</td>\n",
       "      <td>PC 17599</td>\n",
       "      <td>71.2833</td>\n",
       "      <td>C85</td>\n",
       "      <td>C</td>\n",
       "    </tr>\n",
       "    <tr>\n",
       "      <th>2</th>\n",
       "      <td>3</td>\n",
       "      <td>1</td>\n",
       "      <td>3</td>\n",
       "      <td>Heikkinen, Miss. Laina</td>\n",
       "      <td>female</td>\n",
       "      <td>26.0</td>\n",
       "      <td>0</td>\n",
       "      <td>0</td>\n",
       "      <td>STON/O2. 3101282</td>\n",
       "      <td>7.9250</td>\n",
       "      <td>NaN</td>\n",
       "      <td>S</td>\n",
       "    </tr>\n",
       "    <tr>\n",
       "      <th>3</th>\n",
       "      <td>4</td>\n",
       "      <td>1</td>\n",
       "      <td>1</td>\n",
       "      <td>Futrelle, Mrs. Jacques Heath (Lily May Peel)</td>\n",
       "      <td>female</td>\n",
       "      <td>35.0</td>\n",
       "      <td>1</td>\n",
       "      <td>0</td>\n",
       "      <td>113803</td>\n",
       "      <td>53.1000</td>\n",
       "      <td>C123</td>\n",
       "      <td>S</td>\n",
       "    </tr>\n",
       "    <tr>\n",
       "      <th>4</th>\n",
       "      <td>5</td>\n",
       "      <td>0</td>\n",
       "      <td>3</td>\n",
       "      <td>Allen, Mr. William Henry</td>\n",
       "      <td>male</td>\n",
       "      <td>35.0</td>\n",
       "      <td>0</td>\n",
       "      <td>0</td>\n",
       "      <td>373450</td>\n",
       "      <td>8.0500</td>\n",
       "      <td>NaN</td>\n",
       "      <td>S</td>\n",
       "    </tr>\n",
       "  </tbody>\n",
       "</table>\n",
       "</div>"
      ],
      "text/plain": [
       "   PassengerId  Survived  Pclass  \\\n",
       "0            1         0       3   \n",
       "1            2         1       1   \n",
       "2            3         1       3   \n",
       "3            4         1       1   \n",
       "4            5         0       3   \n",
       "\n",
       "                                                Name     Sex   Age  SibSp  \\\n",
       "0                            Braund, Mr. Owen Harris    male  22.0      1   \n",
       "1  Cumings, Mrs. John Bradley (Florence Briggs Th...  female  38.0      1   \n",
       "2                             Heikkinen, Miss. Laina  female  26.0      0   \n",
       "3       Futrelle, Mrs. Jacques Heath (Lily May Peel)  female  35.0      1   \n",
       "4                           Allen, Mr. William Henry    male  35.0      0   \n",
       "\n",
       "   Parch            Ticket     Fare Cabin Embarked  \n",
       "0      0         A/5 21171   7.2500   NaN        S  \n",
       "1      0          PC 17599  71.2833   C85        C  \n",
       "2      0  STON/O2. 3101282   7.9250   NaN        S  \n",
       "3      0            113803  53.1000  C123        S  \n",
       "4      0            373450   8.0500   NaN        S  "
      ]
     },
     "execution_count": 3,
     "metadata": {},
     "output_type": "execute_result"
    }
   ],
   "source": [
    "train.head()"
   ]
  },
  {
   "cell_type": "code",
   "execution_count": 17,
   "metadata": {},
   "outputs": [],
   "source": [
    "profile = ppf.ProfileReport(train)\n",
    "profile.to_file(output_file=\"output.html\")"
   ]
  },
  {
   "cell_type": "markdown",
   "metadata": {},
   "source": [
    "### Data Preprocessing\n",
    "#### Missing Values and Drop Unnecessary Cols\n",
    "`Age` has 19.9% missing value, use mean to fill in the missing value.\n"
   ]
  },
  {
   "cell_type": "code",
   "execution_count": 2,
   "metadata": {},
   "outputs": [],
   "source": [
    "train['Age'] = train.Age.fillna(np.mean(train.Age))\n",
    "test['Age'] = test.Age.fillna(np.mean(test.Age))\n",
    "train['Fare'] = train.Fare.fillna(np.mean(train.Fare))\n",
    "test['Fare'] = test.Fare.fillna(np.mean(test.Fare))\n",
    "train.drop(['Name','Cabin','Ticket','Embarked'],axis = 1, inplace = True)\n",
    "test.drop(['Name','Cabin','Ticket','Embarked'],axis = 1, inplace = True)"
   ]
  },
  {
   "cell_type": "code",
   "execution_count": 3,
   "metadata": {},
   "outputs": [
    {
     "data": {
      "text/plain": [
       "0"
      ]
     },
     "execution_count": 3,
     "metadata": {},
     "output_type": "execute_result"
    }
   ],
   "source": [
    "test.Fare.isnull().sum() # double check how many missing values"
   ]
  },
  {
   "cell_type": "markdown",
   "metadata": {},
   "source": [
    "#### Encode `gender` variable\n",
    "`gender` is categorical variable and we want to convert it into numerical data."
   ]
  },
  {
   "cell_type": "code",
   "execution_count": 4,
   "metadata": {},
   "outputs": [],
   "source": [
    "lab = LabelEncoder()\n",
    "train.Sex = lab.fit_transform(train.Sex)\n",
    "test.Sex = lab.fit_transform(test.Sex)"
   ]
  },
  {
   "cell_type": "markdown",
   "metadata": {},
   "source": [
    "#### Normalize Some of the Variables\n",
    "Nornalize `Age`, `Fare`  by MinMaxScaler"
   ]
  },
  {
   "cell_type": "code",
   "execution_count": 5,
   "metadata": {},
   "outputs": [],
   "source": [
    "minmax = MinMaxScaler()\n",
    "train.Age = minmax.fit_transform(np.array(train.Age).reshape(-1,1))\n",
    "test.Age = minmax.fit_transform(np.array(test.Age).reshape(-1,1))\n",
    "train.Fare = minmax.fit_transform(np.array(train.Fare).reshape(-1,1))\n",
    "test.Fare = minmax.fit_transform(np.array(test.Fare).reshape(-1,1))"
   ]
  },
  {
   "cell_type": "code",
   "execution_count": 6,
   "metadata": {},
   "outputs": [
    {
     "data": {
      "text/html": [
       "<div>\n",
       "<style scoped>\n",
       "    .dataframe tbody tr th:only-of-type {\n",
       "        vertical-align: middle;\n",
       "    }\n",
       "\n",
       "    .dataframe tbody tr th {\n",
       "        vertical-align: top;\n",
       "    }\n",
       "\n",
       "    .dataframe thead th {\n",
       "        text-align: right;\n",
       "    }\n",
       "</style>\n",
       "<table border=\"1\" class=\"dataframe\">\n",
       "  <thead>\n",
       "    <tr style=\"text-align: right;\">\n",
       "      <th></th>\n",
       "      <th>PassengerId</th>\n",
       "      <th>Pclass</th>\n",
       "      <th>Sex</th>\n",
       "      <th>Age</th>\n",
       "      <th>SibSp</th>\n",
       "      <th>Parch</th>\n",
       "      <th>Fare</th>\n",
       "    </tr>\n",
       "  </thead>\n",
       "  <tbody>\n",
       "    <tr>\n",
       "      <th>0</th>\n",
       "      <td>892</td>\n",
       "      <td>3</td>\n",
       "      <td>1</td>\n",
       "      <td>0.452723</td>\n",
       "      <td>0</td>\n",
       "      <td>0</td>\n",
       "      <td>0.015282</td>\n",
       "    </tr>\n",
       "    <tr>\n",
       "      <th>1</th>\n",
       "      <td>893</td>\n",
       "      <td>3</td>\n",
       "      <td>0</td>\n",
       "      <td>0.617566</td>\n",
       "      <td>1</td>\n",
       "      <td>0</td>\n",
       "      <td>0.013663</td>\n",
       "    </tr>\n",
       "    <tr>\n",
       "      <th>2</th>\n",
       "      <td>894</td>\n",
       "      <td>2</td>\n",
       "      <td>1</td>\n",
       "      <td>0.815377</td>\n",
       "      <td>0</td>\n",
       "      <td>0</td>\n",
       "      <td>0.018909</td>\n",
       "    </tr>\n",
       "    <tr>\n",
       "      <th>3</th>\n",
       "      <td>895</td>\n",
       "      <td>3</td>\n",
       "      <td>1</td>\n",
       "      <td>0.353818</td>\n",
       "      <td>0</td>\n",
       "      <td>0</td>\n",
       "      <td>0.016908</td>\n",
       "    </tr>\n",
       "    <tr>\n",
       "      <th>4</th>\n",
       "      <td>896</td>\n",
       "      <td>3</td>\n",
       "      <td>0</td>\n",
       "      <td>0.287881</td>\n",
       "      <td>1</td>\n",
       "      <td>1</td>\n",
       "      <td>0.023984</td>\n",
       "    </tr>\n",
       "  </tbody>\n",
       "</table>\n",
       "</div>"
      ],
      "text/plain": [
       "   PassengerId  Pclass  Sex       Age  SibSp  Parch      Fare\n",
       "0          892       3    1  0.452723      0      0  0.015282\n",
       "1          893       3    0  0.617566      1      0  0.013663\n",
       "2          894       2    1  0.815377      0      0  0.018909\n",
       "3          895       3    1  0.353818      0      0  0.016908\n",
       "4          896       3    0  0.287881      1      1  0.023984"
      ]
     },
     "execution_count": 6,
     "metadata": {},
     "output_type": "execute_result"
    }
   ],
   "source": [
    "test.head()"
   ]
  },
  {
   "cell_type": "code",
   "execution_count": 7,
   "metadata": {},
   "outputs": [
    {
     "data": {
      "text/html": [
       "<div>\n",
       "<style scoped>\n",
       "    .dataframe tbody tr th:only-of-type {\n",
       "        vertical-align: middle;\n",
       "    }\n",
       "\n",
       "    .dataframe tbody tr th {\n",
       "        vertical-align: top;\n",
       "    }\n",
       "\n",
       "    .dataframe thead th {\n",
       "        text-align: right;\n",
       "    }\n",
       "</style>\n",
       "<table border=\"1\" class=\"dataframe\">\n",
       "  <thead>\n",
       "    <tr style=\"text-align: right;\">\n",
       "      <th></th>\n",
       "      <th>PassengerId</th>\n",
       "      <th>Survived</th>\n",
       "      <th>Pclass</th>\n",
       "      <th>Sex</th>\n",
       "      <th>Age</th>\n",
       "      <th>SibSp</th>\n",
       "      <th>Parch</th>\n",
       "      <th>Fare</th>\n",
       "    </tr>\n",
       "  </thead>\n",
       "  <tbody>\n",
       "    <tr>\n",
       "      <th>0</th>\n",
       "      <td>1</td>\n",
       "      <td>0</td>\n",
       "      <td>3</td>\n",
       "      <td>1</td>\n",
       "      <td>0.271174</td>\n",
       "      <td>1</td>\n",
       "      <td>0</td>\n",
       "      <td>0.014151</td>\n",
       "    </tr>\n",
       "    <tr>\n",
       "      <th>1</th>\n",
       "      <td>2</td>\n",
       "      <td>1</td>\n",
       "      <td>1</td>\n",
       "      <td>0</td>\n",
       "      <td>0.472229</td>\n",
       "      <td>1</td>\n",
       "      <td>0</td>\n",
       "      <td>0.139136</td>\n",
       "    </tr>\n",
       "    <tr>\n",
       "      <th>2</th>\n",
       "      <td>3</td>\n",
       "      <td>1</td>\n",
       "      <td>3</td>\n",
       "      <td>0</td>\n",
       "      <td>0.321438</td>\n",
       "      <td>0</td>\n",
       "      <td>0</td>\n",
       "      <td>0.015469</td>\n",
       "    </tr>\n",
       "    <tr>\n",
       "      <th>3</th>\n",
       "      <td>4</td>\n",
       "      <td>1</td>\n",
       "      <td>1</td>\n",
       "      <td>0</td>\n",
       "      <td>0.434531</td>\n",
       "      <td>1</td>\n",
       "      <td>0</td>\n",
       "      <td>0.103644</td>\n",
       "    </tr>\n",
       "    <tr>\n",
       "      <th>4</th>\n",
       "      <td>5</td>\n",
       "      <td>0</td>\n",
       "      <td>3</td>\n",
       "      <td>1</td>\n",
       "      <td>0.434531</td>\n",
       "      <td>0</td>\n",
       "      <td>0</td>\n",
       "      <td>0.015713</td>\n",
       "    </tr>\n",
       "  </tbody>\n",
       "</table>\n",
       "</div>"
      ],
      "text/plain": [
       "   PassengerId  Survived  Pclass  Sex       Age  SibSp  Parch      Fare\n",
       "0            1         0       3    1  0.271174      1      0  0.014151\n",
       "1            2         1       1    0  0.472229      1      0  0.139136\n",
       "2            3         1       3    0  0.321438      0      0  0.015469\n",
       "3            4         1       1    0  0.434531      1      0  0.103644\n",
       "4            5         0       3    1  0.434531      0      0  0.015713"
      ]
     },
     "execution_count": 7,
     "metadata": {},
     "output_type": "execute_result"
    }
   ],
   "source": [
    "train.head()"
   ]
  },
  {
   "cell_type": "code",
   "execution_count": 8,
   "metadata": {},
   "outputs": [],
   "source": [
    "x = train.drop('Survived',axis = 1)\n",
    "y = train.Survived"
   ]
  },
  {
   "cell_type": "code",
   "execution_count": 9,
   "metadata": {},
   "outputs": [],
   "source": [
    "x_train, x_test, y_train, y_test = train_test_split(x,y,test_size = 0.3, random_state = 0)"
   ]
  },
  {
   "cell_type": "code",
   "execution_count": 10,
   "metadata": {},
   "outputs": [
    {
     "data": {
      "text/plain": [
       "((623, 7), (623,))"
      ]
     },
     "execution_count": 10,
     "metadata": {},
     "output_type": "execute_result"
    }
   ],
   "source": [
    "x_train.shape, y_train.shape"
   ]
  },
  {
   "cell_type": "markdown",
   "metadata": {},
   "source": [
    "### Model\n",
    "Use linear regression here."
   ]
  },
  {
   "cell_type": "code",
   "execution_count": 11,
   "metadata": {},
   "outputs": [
    {
     "data": {
      "text/plain": [
       "LinearRegression(copy_X=True, fit_intercept=True, n_jobs=1, normalize=False)"
      ]
     },
     "execution_count": 11,
     "metadata": {},
     "output_type": "execute_result"
    }
   ],
   "source": [
    "lin = LinearRegression()\n",
    "lin.fit(x_train,y_train)"
   ]
  },
  {
   "cell_type": "code",
   "execution_count": 12,
   "metadata": {},
   "outputs": [],
   "source": [
    "y_pred = lin.predict(x_test)"
   ]
  },
  {
   "cell_type": "code",
   "execution_count": 13,
   "metadata": {},
   "outputs": [
    {
     "data": {
      "text/plain": [
       "0.2931077454852208"
      ]
     },
     "execution_count": 13,
     "metadata": {},
     "output_type": "execute_result"
    }
   ],
   "source": [
    "mae = mean_absolute_error(y_pred,y_test)\n",
    "mae"
   ]
  },
  {
   "cell_type": "code",
   "execution_count": 14,
   "metadata": {},
   "outputs": [
    {
     "data": {
      "text/plain": [
       "array([ 0.0760432 ,  0.4685533 ,  0.06589668,  0.12325543,  0.60638514,\n",
       "        0.20474355,  0.6234152 ,  0.22995302,  0.69825173,  0.07044634,\n",
       "        0.10243415,  0.33364852,  0.97182524,  0.01799975,  0.81300957,\n",
       "        0.78186582,  0.2357001 ,  0.16007643,  0.59385596,  0.52939502,\n",
       "        0.24286039,  0.21274993,  0.95362144,  0.48393795,  0.8284797 ,\n",
       "       -0.0665964 ,  0.99727959,  0.15063594,  0.36666849,  0.01132595,\n",
       "        0.09915861,  0.2156135 ,  0.52025904,  0.53849822,  0.39836769,\n",
       "        0.17559205,  0.62169554,  0.67990965,  0.13588394,  0.12246205,\n",
       "        0.02935139,  0.43200337,  0.03515153,  0.78641782,  0.82173626,\n",
       "        0.13518444,  0.34121621,  0.10213842,  0.78617342,  0.54781276,\n",
       "        0.43670956,  0.28660404,  0.7356821 ,  0.87749207,  0.26635408,\n",
       "        0.02363697,  0.07258942,  0.13499382,  0.05718127,  1.01352453,\n",
       "        0.18508738,  0.25464633,  0.17876273,  0.67310325,  0.49992918,\n",
       "        0.78790109,  0.69815352,  0.33386196,  0.42811113,  0.73280753,\n",
       "        0.66056657,  0.16001229,  0.62937015,  0.44336795,  0.99852221,\n",
       "        0.49478163,  0.10207891,  0.69948533,  0.26683296,  0.66050939,\n",
       "        0.18779087,  0.23498878,  0.31444348,  0.1019703 ,  0.2641377 ,\n",
       "        0.05632524,  0.64176474,  0.69809111,  0.62124036,  0.37696782,\n",
       "        0.62713988,  0.10186923,  0.892463  ,  0.10197089,  0.4643984 ,\n",
       "        0.134813  ,  0.63855169,  0.10984883,  0.68543719,  0.08488292,\n",
       "        0.8350839 ,  0.24248734,  0.10178894,  0.12850222,  0.64168929,\n",
       "        0.12212127,  0.1597587 ,  0.10175717,  0.10215111,  0.33852592,\n",
       "        0.19871617,  0.62110636,  0.91724412,  0.6944814 ,  0.77914676,\n",
       "        0.13285425,  0.10115413,  0.73877951,  0.41596066,  0.74923284,\n",
       "        0.89959563,  0.0533083 ,  0.8859145 ,  0.1156542 ,  0.10164915,\n",
       "        0.68681828,  0.15336992,  0.53071899,  0.19149967,  0.14095398,\n",
       "        0.09093724,  0.29016666,  0.54580665,  0.05268619,  0.0220834 ,\n",
       "        0.14083443,  0.12493815,  0.29146326,  0.66651056, -0.11511645,\n",
       "        0.48086126,  0.98566659,  0.22710056,  0.28432909,  0.35803736,\n",
       "       -0.04384844,  0.44186336,  0.15334221,  0.43132348,  0.20279787,\n",
       "        0.99904852,  0.10153823, -0.07589554,  0.5456062 , -0.01543561,\n",
       "        0.14058083,  1.03978396,  0.6663084 ,  0.3579484 ,  0.60874304,\n",
       "        0.62077592,  0.18102489,  0.81087482,  0.10108942,  0.19752222,\n",
       "        0.58440665,  0.33034855,  0.05118759,  0.95104579,  0.67294438,\n",
       "        0.10127368,  0.12159011,  0.10100508,  0.1011212 , -0.10115974,\n",
       "        0.8489005 ,  0.85796306,  0.24646788,  0.69697359,  0.72193042,\n",
       "        0.26618484,  0.34361098,  0.98987145,  0.10127426,  0.99382378,\n",
       "        0.20488775,  0.8244674 ,  0.0876247 ,  0.21816636,  0.20361467,\n",
       "        0.19816274,  0.43082152,  0.15238689,  0.07204165,  0.37047313,\n",
       "        0.08419149,  0.58638767,  0.69727779,  0.30878984,  0.62068582,\n",
       "        0.62375184,  0.24984447,  0.36163552,  0.85934579,  0.29624912,\n",
       "        0.43062514,  0.59093813,  0.30248135,  0.93374177,  0.13413022,\n",
       "        0.09644889,  0.10080522,  0.37240963,  0.55484529,  0.33744298,\n",
       "        0.36421963,  0.62048077,  0.2523378 ,  0.83484724,  0.10117028,\n",
       "        0.73729019,  0.1591233 ,  0.83425111,  0.15900487,  0.80849976,\n",
       "        0.58222611,  0.14648321,  0.62035714,  0.04011051,  0.2283657 ,\n",
       "        0.3875141 ,  1.00812429,  0.11004712,  0.10101028,  0.34646351,\n",
       "        0.16520421,  0.19181804,  0.16492983,  0.79120386,  0.82414754,\n",
       "        0.79600987,  0.65719917,  0.31456539,  0.1009502 ,  0.01779503,\n",
       "        0.32581414,  0.83846543,  0.12986286,  0.74841316,  0.57464563,\n",
       "        0.88340357,  0.16513199,  0.44860369,  0.14069633,  0.08762672,\n",
       "        0.10073358,  0.10081041,  0.11513546,  0.85381597,  0.15876747,\n",
       "        0.017509  ,  0.1587877 ,  0.7541753 ,  0.73597337,  0.26554193,\n",
       "        0.10081386,  0.41953187,  0.10065733,  0.62022139,  0.18407823,\n",
       "        0.35248184,  0.1007151 ,  0.97409037,  0.57492807,  0.10047769,\n",
       "        0.80450329,  0.27703773,  0.16010214,  0.22052933,  0.31452646,\n",
       "        0.66586301,  0.21872132,  0.62000767,  0.68710955,  0.73292788,\n",
       "        0.06461445,  0.10041184,  0.44446409,  0.10039048,  0.10072549,\n",
       "        0.43584854,  0.62132181,  0.10036506,  0.24233788,  0.06549301,\n",
       "        0.12733247,  0.88836258,  0.00962305,  0.43995549,  0.10853586,\n",
       "        0.08974267,  0.26456278,  0.16683929,  0.1401031 ,  0.61986788,\n",
       "        0.66985775,  0.39438852,  0.26457562,  0.23458162,  0.48205509,\n",
       "        0.17756641,  0.15195702,  0.1003818 ,  0.57775564,  0.84041919,\n",
       "        0.70276196,  0.26470948,  0.3330389 ,  0.12091773,  0.22628611,\n",
       "        0.12712338,  0.13314133,  0.29028775,  0.41316166,  0.9718609 ,\n",
       "        0.14554399,  0.79060567,  0.35376587,  0.22854236,  0.32149977,\n",
       "        0.64068701,  0.37691308,  0.10010915,  0.6244851 ,  0.12083336,\n",
       "        0.43161057,  0.252691  ,  0.00426033,  0.30413132,  0.10006642,\n",
       "        0.33914405,  0.08940072, -0.10806925,  0.95751379,  0.034068  ,\n",
       "        0.708788  ,  0.29013526,  0.57107171,  0.30283309,  0.78154927,\n",
       "        0.85201454,  0.29531506,  0.36526875,  0.07831602,  0.72344316,\n",
       "        0.30645751,  0.6834286 ,  0.10022237,  0.10016229,  0.57610645,\n",
       "       -0.20368984,  0.76289758,  0.78146667,  0.12096796,  0.9459298 ,\n",
       "        0.41114707,  0.05454144,  0.68446443,  0.85025396,  0.27159217,\n",
       "        0.2722555 ,  0.98961685,  0.3017877 ,  0.17744032,  0.75493437,\n",
       "        0.95525494,  0.57478448,  0.32057094,  0.28503619,  0.03314511,\n",
       "        0.1000225 ,  0.12677912,  0.6221795 ,  0.64494698,  0.26313258,\n",
       "        0.75375762,  0.13920661,  0.09608448,  0.1579374 ,  0.09153191,\n",
       "        0.50309263,  0.80428226,  0.17185982,  0.15751962, -0.05188464,\n",
       "        0.99138765,  0.13892472,  0.79119046,  0.15163295,  0.09534757,\n",
       "        1.00831303,  0.16973738,  0.99381779,  0.52122061,  0.302261  ,\n",
       "        0.32762686,  0.25910827,  0.31428385,  0.6191949 ,  0.72320504,\n",
       "        0.61919434,  0.88498795,  0.63339867,  0.09993758,  0.9286865 ,\n",
       "        0.04816016,  0.09991852,  0.03687232])"
      ]
     },
     "execution_count": 14,
     "metadata": {},
     "output_type": "execute_result"
    }
   ],
   "source": [
    "prediction = lin.predict(test)\n",
    "prediction"
   ]
  },
  {
   "cell_type": "code",
   "execution_count": 15,
   "metadata": {},
   "outputs": [],
   "source": [
    "submission = pd.DataFrame({'PassengerId':test.PassengerId, 'Survived':prediction})\n",
    "submission.to_csv('submission_1.csv',index = False)"
   ]
  },
  {
   "cell_type": "code",
   "execution_count": null,
   "metadata": {},
   "outputs": [],
   "source": []
  },
  {
   "cell_type": "code",
   "execution_count": null,
   "metadata": {},
   "outputs": [],
   "source": []
  },
  {
   "cell_type": "code",
   "execution_count": null,
   "metadata": {},
   "outputs": [],
   "source": []
  },
  {
   "cell_type": "code",
   "execution_count": null,
   "metadata": {},
   "outputs": [],
   "source": []
  },
  {
   "cell_type": "code",
   "execution_count": null,
   "metadata": {},
   "outputs": [],
   "source": []
  },
  {
   "cell_type": "code",
   "execution_count": null,
   "metadata": {},
   "outputs": [],
   "source": []
  },
  {
   "cell_type": "code",
   "execution_count": null,
   "metadata": {},
   "outputs": [],
   "source": []
  },
  {
   "cell_type": "code",
   "execution_count": null,
   "metadata": {},
   "outputs": [],
   "source": []
  },
  {
   "cell_type": "code",
   "execution_count": null,
   "metadata": {},
   "outputs": [],
   "source": []
  },
  {
   "cell_type": "code",
   "execution_count": null,
   "metadata": {},
   "outputs": [],
   "source": []
  }
 ],
 "metadata": {
  "kernelspec": {
   "display_name": "Python 3",
   "language": "python",
   "name": "python3"
  },
  "language_info": {
   "codemirror_mode": {
    "name": "ipython",
    "version": 3
   },
   "file_extension": ".py",
   "mimetype": "text/x-python",
   "name": "python",
   "nbconvert_exporter": "python",
   "pygments_lexer": "ipython3",
   "version": "3.7.0"
  }
 },
 "nbformat": 4,
 "nbformat_minor": 1
}
